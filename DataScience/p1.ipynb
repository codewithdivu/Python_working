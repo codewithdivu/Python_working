{
 "cells": [
  {
   "cell_type": "code",
   "execution_count": 4,
   "metadata": {},
   "outputs": [],
   "source": [
    "import numpy as np"
   ]
  },
  {
   "cell_type": "code",
   "execution_count": 7,
   "metadata": {},
   "outputs": [],
   "source": [
    "import pandas as pd"
   ]
  },
  {
   "cell_type": "code",
   "execution_count": 8,
   "metadata": {},
   "outputs": [],
   "source": [
    "sample = pd.read_csv('./sample.csv')"
   ]
  },
  {
   "cell_type": "code",
   "execution_count": 9,
   "metadata": {},
   "outputs": [
    {
     "name": "stdout",
     "output_type": "stream",
     "text": [
      "    Serial Number                   Company Name  Employee Markme  \\\n",
      "0   9788189999599                 TALES OF SHIVA             Mark   \n",
      "1   9780099578079      1Q84 THE COMPLETE TRILOGY  HARUKI MURAKAMI   \n",
      "2   9780198082897                       MY KUMAN             Mark   \n",
      "3   9780007880331        THE GOD OF SMAAL THINGS    ARUNDHATI ROY   \n",
      "4   9780545060455               THE BLACK CIRCLE             Mark   \n",
      "..            ...                            ...              ...   \n",
      "94  9788184821536  MORE STORIES FROM THE JATAKAS             Mark   \n",
      "95  9788184821543           MORE TALES OF BIRBAL                -   \n",
      "96  9788184821550         TALES FROM THE JATAKAS                -   \n",
      "97  9788184821567               RAMarkS OF MEWAR                -   \n",
      "98  9788184821574       THE SONS OF THE PANDAVAS                -   \n",
      "\n",
      "           Description  Leave  \n",
      "0                 mark      0  \n",
      "1                 Mark      0  \n",
      "2                 Mark      0  \n",
      "3   4TH HARPER COLLINS      2  \n",
      "4   4TH HARPER COLLINS      0  \n",
      "..                 ...    ...  \n",
      "94                 ACK      0  \n",
      "95                 ACK      0  \n",
      "96                 ACK      0  \n",
      "97                 ACK      0  \n",
      "98                 ACK      0  \n",
      "\n",
      "[99 rows x 5 columns]\n"
     ]
    }
   ],
   "source": [
    "print(sample)"
   ]
  },
  {
   "cell_type": "code",
   "execution_count": 10,
   "metadata": {},
   "outputs": [
    {
     "data": {
      "text/plain": [
       "(99, 5)"
      ]
     },
     "execution_count": 10,
     "metadata": {},
     "output_type": "execute_result"
    }
   ],
   "source": [
    "sample.shape"
   ]
  }
 ],
 "metadata": {
  "kernelspec": {
   "display_name": "Python 3",
   "language": "python",
   "name": "python3"
  },
  "language_info": {
   "codemirror_mode": {
    "name": "ipython",
    "version": 3
   },
   "file_extension": ".py",
   "mimetype": "text/x-python",
   "name": "python",
   "nbconvert_exporter": "python",
   "pygments_lexer": "ipython3",
   "version": "3.9.5"
  },
  "orig_nbformat": 4,
  "vscode": {
   "interpreter": {
    "hash": "6efa788cb94cb17b6d18a0713a162526dde847b9fce190a5e1ec27ce6e1c4702"
   }
  }
 },
 "nbformat": 4,
 "nbformat_minor": 2
}
